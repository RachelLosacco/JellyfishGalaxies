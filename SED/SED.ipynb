{
 "cells": [
  {
   "cell_type": "markdown",
   "metadata": {},
   "source": [
    "## Creating SEDs\n",
    "Create SEDs of jellyfish galaxy candidates (indicated in ../CandidateIDs.dat). To do this, get a simple stellar population (SSP) model from Bruzual & Charlot 2003 (bc03). Further documentation is in bc03.pdf in this directory. \n",
    "### Steps:\n",
    "* bc03 takes the parameters of metallicity and age of the stellar population. Set the metallicity to solar (notated as 62 or m62 in their files)\n",
    "* The ages of the SSP are discrete. Take the age of the stars in consideration and bin them to one of the given ages available in bc03\n",
    "* Multiply by the mass formed in that age bin\n",
    "* Get the wavelength vs. luminosity\n",
    "\n",
    "Refer to STScI work"
   ]
  },
  {
   "cell_type": "code",
   "execution_count": 6,
   "metadata": {},
   "outputs": [],
   "source": [
    "import numpy as np\n",
    "import matplotlib.pyplot as plt\n",
    "import eagleSqlTools as sql\n",
    "con = sql.connect(\"nkl161\", password=\"FCGxrt20\")"
   ]
  },
  {
   "cell_type": "code",
   "execution_count": 7,
   "metadata": {},
   "outputs": [],
   "source": [
    "jellyID = np.genfromtxt('../CandidateIDs.dat')   # jellyfish galaxy candidate IDs\n",
    "z = 62   # metallicity"
   ]
  },
  {
   "cell_type": "markdown",
   "metadata": {},
   "source": [
    "__Get the ages of the stars formed in the jellyfish galaxies__, i.e. the star-formation time, along with the mass of stars formed at that time. We're taking the stars at redshift 0 (snapshot 28) even though the jellyfish is observed at redshift 0.1 (snapshot 27). This way we can see the stars formed at z=0.1 as well as the stars formed afterwards."
   ]
  },
  {
   "cell_type": "code",
   "execution_count": 8,
   "metadata": {},
   "outputs": [],
   "source": [
    "jellyfish_stars = []\n",
    "for i in range(len(jellyID)):\n",
    "    query = \"\"\"\n",
    "    select\n",
    "        jelly.galaxyid as ID,\n",
    "        stars.mass as stellar_mass,\n",
    "        stars.stellarformationtime as sftime\n",
    "    from\n",
    "        RefL0100N1504_Subhalo as jelly,\n",
    "        RefL0100N1504_stars as stars\n",
    "    where\n",
    "        jelly.galaxyid = %d - 1\n",
    "        and\n",
    "        jelly.galaxyid = stars.galaxyid\n",
    "    \"\"\"%(jellyID[i])\n",
    "    output = sql.execute_query(con, query)\n",
    "    jellyfish_stars.append(output)"
   ]
  },
  {
   "cell_type": "markdown",
   "metadata": {},
   "source": [
    "The star formation time is in Gyr. The time steps of the SSP are in SSPtime.dat, also in Gyr. Assign the stars formed to an SSP-time bin"
   ]
  },
  {
   "cell_type": "code",
   "execution_count": 16,
   "metadata": {},
   "outputs": [],
   "source": [
    "stellar_mass = jellyfish_stars[0]['stellar_mass']  # mass formed at a given time\n",
    "sftime = jellyfish_stars[0]['sftime']              # time the stars formed from EAGLE, Gyr\n",
    "ssptime = np.genfromtxt('SSPtime.dat')             # times available for the SSP model, Gyr"
   ]
  },
  {
   "cell_type": "code",
   "execution_count": 19,
   "metadata": {},
   "outputs": [
    {
     "name": "stdout",
     "output_type": "stream",
     "text": [
      "[ 0.02449917  0.04903552  0.10346925  0.18669405  0.21154287  0.23931038\n",
      "  0.27027888  0.30474864  0.34304552  0.38552271  0.43253159  0.48448192\n",
      "  0.54175775  0.60480358  0.67406028  0.7499788   0.83305652  0.9237819\n",
      "  1.02263884  1.13015518  1.2468184   1.37316677  1.50967719  1.65683575\n",
      "  1.81512353  1.98497441  2.16677833  2.36088613  2.56758876  2.78713629\n",
      "  3.01966068  3.26523551  3.52381171  3.79526833  4.07934841  4.37569963\n",
      "  4.68381112  5.00309123  5.33280906  5.67213194  6.0201347   6.37574638\n",
      "  6.73790924  7.10541582  7.47707058  7.85162483  8.22782472  8.60440959\n",
      "  8.98015675  9.35386021  9.72437088 10.09055599 10.45139593 10.80587781\n",
      " 11.15308722 11.49216033 11.82231014 12.14282101 12.45300026 12.75224381\n",
      " 13.04002749 13.31581708 13.57918541]\n"
     ]
    }
   ],
   "source": [
    "print(ssptime)"
   ]
  },
  {
   "cell_type": "code",
   "execution_count": null,
   "metadata": {},
   "outputs": [],
   "source": [
    "# Let's make a star formation history for the SSP, assigning a total mass of stars formed for each SSP-time step.\n",
    "SSP_mass = [] # stars formed for each SSP time step\n",
    "\n",
    "for step in range(len(ssptime)):\n",
    "    mass = []  # record masses during each time step\n",
    "    for time in range(len(sftime)):\n",
    "        if sftime[time] < ssptime[0]:\n",
    "            \n",
    "        if sftime[time] < ssptime[step] and sftime[time] > ssptime[step+1]:   # if between the ssp time steps\n",
    "            "
   ]
  }
 ],
 "metadata": {
  "kernelspec": {
   "display_name": "Python 3",
   "language": "python",
   "name": "python3"
  },
  "language_info": {
   "codemirror_mode": {
    "name": "ipython",
    "version": 3
   },
   "file_extension": ".py",
   "mimetype": "text/x-python",
   "name": "python",
   "nbconvert_exporter": "python",
   "pygments_lexer": "ipython3",
   "version": "3.7.1"
  }
 },
 "nbformat": 4,
 "nbformat_minor": 2
}
