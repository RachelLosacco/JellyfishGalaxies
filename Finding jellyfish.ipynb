{
 "cells": [
  {
   "cell_type": "markdown",
   "metadata": {},
   "source": [
    "## Various ways of detecting jellyfish galaxies"
   ]
  },
  {
   "cell_type": "code",
   "execution_count": 1,
   "metadata": {},
   "outputs": [],
   "source": [
    "import eagleSqlTools as sql\n",
    "import numpy as np\n",
    "import matplotlib.pyplot as plt\n",
    "import pandas as pd"
   ]
  },
  {
   "cell_type": "code",
   "execution_count": 2,
   "metadata": {},
   "outputs": [],
   "source": [
    "sim_name = 'RefL0100N1504'\n",
    "con = sql.connect(\"nkl161\", password=\"FCGxrt20\")"
   ]
  },
  {
   "cell_type": "markdown",
   "metadata": {},
   "source": [
    "### Finding the radial distance from center"
   ]
  },
  {
   "cell_type": "code",
   "execution_count": 3,
   "metadata": {},
   "outputs": [],
   "source": [
    "jellyfish_ID = [9542933, 10694572, 11556600, 12143703, 12681787, \n",
    "                12728081, 13681352, 17929826]"
   ]
  },
  {
   "cell_type": "code",
   "execution_count": 4,
   "metadata": {
    "scrolled": false
   },
   "outputs": [
    {
     "name": "stdout",
     "output_type": "stream",
     "text": [
      "9542933\n",
      "(9542933, 3.0804038e+10, 4.937533, 0.5203387)\n",
      "10694572\n",
      "(10694572, 2.6647065e+10, 2.8390713, 0.38512293)\n",
      "11556600\n",
      "(11556600, 3.3720777e+10, 2.8725297, 0.38933987)\n",
      "12143703\n",
      "(12143703, 3.345583e+10, 1.6788048, 0.43413076)\n",
      "12681787\n",
      "(12681787, 1.7164811e+10, 1.3004584, 0.71767794)\n",
      "12728081\n",
      "(12728081, 2.0809146e+10, 2.204082, 0.13398106)\n",
      "13681352\n",
      "(13681352, 2.9966457e+10, 4.1530795, 1.03856945)\n",
      "17929826\n",
      "(17929826, 1.795217e+10, 0.29144388, 0.08429835)\n"
     ]
    }
   ],
   "source": [
    "# # Initialize empty list\n",
    "jellyfish_data = {}\n",
    "\n",
    "# Define SQL query\n",
    "for i in range(len(jellyfish_ID)):\n",
    "    ID = jellyfish_ID[i]\n",
    "    print(ID)\n",
    "    jellyfish_query = \"\"\"\n",
    "    SELECT\n",
    "        sub.GalaxyID as galID,\n",
    "        sub.MassType_Star as StellarMass,\n",
    "        sub.StarFormationRate as SFR,\n",
    "        SQRT(SQUARE(fof.GroupCentreOfPotential_x - sub.CentreOfPotential_x)\n",
    "        +SQUARE(fof.GroupCentreOfPotential_y - sub.CentreOfPotential_y)\n",
    "        +SQUARE(fof.GroupCentreOfPotential_z - sub.CentreOfPotential_z))\n",
    "        as Distance\n",
    "    FROM\n",
    "        %s_SubHalo as sub,\n",
    "        %s_FOF as fof,\n",
    "        %s_Aperture as ap\n",
    "    WHERE\n",
    "        sub.GroupID = fof.GroupID and\n",
    "        sub.GalaxyID = %d and\n",
    "        ap.GalaxyID = sub.GalaxyID and\n",
    "        ap.ApertureSize = 30\n",
    "    \"\"\"%(sim_name, sim_name, sim_name, ID)\n",
    "    \n",
    "    # Execute query\n",
    "    jellyData = sql.execute_query(con, jellyfish_query)\n",
    "    print(jellyData)\n",
    "    jellyfish_data[i] = (jellyData)"
   ]
  },
  {
   "cell_type": "markdown",
   "metadata": {},
   "source": [
    "The output is a dictionary. You can add the query output to an empty dictionary as above, specifying that it is taking the ith row. You can then call the ith entry and the specific label (e.g. dictionary[i]['mass']), but not the index (e.g. dictionary[i][0])."
   ]
  },
  {
   "cell_type": "code",
   "execution_count": 29,
   "metadata": {},
   "outputs": [],
   "source": [
    "mass = []\n",
    "sfr = []\n",
    "distance = []\n",
    "for i in range(len(jellyfish_data)):\n",
    "    mass.append(jellyfish_data[i]['StellarMass'])\n",
    "    sfr.append(jellyfish_data[i]['SFR'])\n",
    "    distance.append(jellyfish_data[i]['Distance'])"
   ]
  },
  {
   "cell_type": "code",
   "execution_count": 36,
   "metadata": {},
   "outputs": [
    {
     "data": {
      "image/png": "[encoded data removed]",
      "text/plain": [
       "<Figure size 432x288 with 1 Axes>"
      ]
     },
     "metadata": {
      "needs_background": "light"
     },
     "output_type": "display_data"
    }
   ],
   "source": [
    "plt.hist(sfr, bins=10)\n",
    "plt.title('Star Formation Rate')\n",
    "plt.xlabel('$M_\\odot$/yr')\n",
    "plt.show()"
   ]
  },
  {
   "cell_type": "code",
   "execution_count": 35,
   "metadata": {},
   "outputs": [
    {
     "data": {
      "image/png": "[encoded data removed]",
      "text/plain": [
       "<Figure size 432x288 with 1 Axes>"
      ]
     },
     "metadata": {
      "needs_background": "light"
     },
     "output_type": "display_data"
    }
   ],
   "source": [
    "plt.hist(distance)\n",
    "plt.title('Distance from Center of Cluster')\n",
    "plt.xlabel('cMpc')\n",
    "plt.show()"
   ]
  },
  {
   "cell_type": "code",
   "execution_count": 34,
   "metadata": {},
   "outputs": [
    {
     "data": {
      "image/png": "[encoded data removed]",
      "text/plain": [
       "<Figure size 432x288 with 1 Axes>"
      ]
     },
     "metadata": {
      "needs_background": "light"
     },
     "output_type": "display_data"
    }
   ],
   "source": [
    "plt.hist(mass)\n",
    "plt.title('Stellar Mass')\n",
    "plt.xlabel('$M_\\odot$')\n",
    "plt.show()"
   ]
  },
  {
   "cell_type": "markdown",
   "metadata": {},
   "source": [
    "look into gal.topleafid in subhalo table"
   ]
  },
  {
   "cell_type": "code",
   "execution_count": null,
   "metadata": {},
   "outputs": [],
   "source": []
  }
 ],
 "metadata": {
  "kernelspec": {
   "display_name": "Python 3",
   "language": "python",
   "name": "python3"
  },
  "language_info": {
   "codemirror_mode": {
    "name": "ipython",
    "version": 3
   },
   "file_extension": ".py",
   "mimetype": "text/x-python",
   "name": "python",
   "nbconvert_exporter": "python",
   "pygments_lexer": "ipython3",
   "version": "3.7.1"
  }
 },
 "nbformat": 4,
 "nbformat_minor": 2
}
