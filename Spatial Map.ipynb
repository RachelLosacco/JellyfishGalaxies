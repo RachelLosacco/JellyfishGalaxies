{
 "cells": [
  {
   "cell_type": "markdown",
   "metadata": {},
   "source": [
    "### Making a spatial map of the galaxies to see where they are in the cluster, and what a cluster looks like."
   ]
  },
  {
   "cell_type": "markdown",
   "metadata": {},
   "source": [
    "Skeleton code:\n",
    "\n",
    "    select sub.x, sub.y, count(\\*) (can i count?)\n",
    "\n",
    "    from simulation sub, fof\n",
    "\n",
    "    where sub.groupid = fof.groupid\n",
    "\n",
    "        and fof.groupid = (chosen singular cluster)\n",
    "    \n",
    "this should be a nice big array. plt.scatter(sub.x, sub.y)"
   ]
  },
  {
   "cell_type": "code",
   "execution_count": null,
   "metadata": {},
   "outputs": [],
   "source": []
  }
 ],
 "metadata": {
  "kernelspec": {
   "display_name": "Python 3",
   "language": "python",
   "name": "python3"
  },
  "language_info": {
   "codemirror_mode": {
    "name": "ipython",
    "version": 3
   },
   "file_extension": ".py",
   "mimetype": "text/x-python",
   "name": "python",
   "nbconvert_exporter": "python",
   "pygments_lexer": "ipython3",
   "version": "3.7.1"
  }
 },
 "nbformat": 4,
 "nbformat_minor": 2
}
