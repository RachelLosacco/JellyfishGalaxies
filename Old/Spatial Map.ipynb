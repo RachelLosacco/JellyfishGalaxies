{
 "cells": [
  {
   "cell_type": "markdown",
   "metadata": {},
   "source": [
    "## Getting the positions of the jellyfish candidates"
   ]
  },
  {
   "cell_type": "code",
   "execution_count": 1,
   "metadata": {},
   "outputs": [],
   "source": [
    "import eagleSqlTools as sql\n",
    "import numpy as np\n",
    "import matplotlib.pyplot as plt\n",
    "import pandas as pd"
   ]
  },
  {
   "cell_type": "code",
   "execution_count": 2,
   "metadata": {},
   "outputs": [],
   "source": [
    "sim_name = 'RefL0100N1504'\n",
    "con = sql.connect(\"nkl161\", password=\"FCGxrt20\")"
   ]
  },
  {
   "cell_type": "code",
   "execution_count": 3,
   "metadata": {},
   "outputs": [],
   "source": [
    "jellyfish_ID = [9542933, 10694572, 11556600, 12143703, 12681787, \n",
    "                12728081, 13681352, 17929826]"
   ]
  },
  {
   "cell_type": "code",
   "execution_count": 19,
   "metadata": {},
   "outputs": [],
   "source": [
    "# # Initialize empty list\n",
    "jellyfish_data = []\n",
    "\n",
    "# Define SQL query\n",
    "for i in range(len(jellyfish_ID)):\n",
    "    ID = jellyfish_ID[i]\n",
    "    jellyfish_query = \"\"\"\n",
    "    SELECT\n",
    "        sub.GalaxyID as galID,\n",
    "        sub.GroupNumber,\n",
    "        sub.SubGroupNumber,\n",
    "        sub.CentreOfPotential_x as x,\n",
    "        sub.CentreOfPotential_y as y,\n",
    "        sub.CentreOfPotential_z as z,\n",
    "        SQRT(SQUARE(fof.GroupCentreOfPotential_x - sub.CentreOfPotential_x)\n",
    "        +SQUARE(fof.GroupCentreOfPotential_y - sub.CentreOfPotential_y)\n",
    "        +SQUARE(fof.GroupCentreOfPotential_z - sub.CentreOfPotential_z))\n",
    "        as Distance\n",
    "    FROM\n",
    "        %s_SubHalo as sub,\n",
    "        %s_FOF as fof,\n",
    "        %s_Aperture as ap\n",
    "    WHERE\n",
    "        sub.GroupID = fof.GroupID and\n",
    "        sub.GalaxyID = %d and\n",
    "        ap.GalaxyID = sub.GalaxyID and\n",
    "        ap.ApertureSize = 30\n",
    "    \"\"\"%(sim_name, sim_name, sim_name, ID)\n",
    "    \n",
    "    # Execute query\n",
    "    output = sql.execute_query(con, jellyfish_query)\n",
    "    jellyfish_data.append(output)"
   ]
  },
  {
   "cell_type": "code",
   "execution_count": 20,
   "metadata": {},
   "outputs": [
    {
     "name": "stdout",
     "output_type": "stream",
     "text": [
      "Group Number:  3 Sub Group Number:  18 Coordinates:  9.508234 34.789204 54.27537\n",
      "Group Number:  7 Sub Group Number:  10 Coordinates:  76.1885 88.92437 42.11888\n",
      "Group Number:  14 Sub Group Number:  4 Coordinates:  36.923607 45.161335 97.52874\n",
      "Group Number:  24 Sub Group Number:  2 Coordinates:  54.03829 35.618988 34.687485\n",
      "Group Number:  45 Sub Group Number:  2 Coordinates:  78.19992 31.130318 55.99916\n",
      "Group Number:  53 Sub Group Number:  4 Coordinates:  96.83209 20.332418 45.665028\n",
      "Group Number:  106 Sub Group Number:  1 Coordinates:  92.16184 13.770495 36.18405\n",
      "Group Number:  91 Sub Group Number:  4 Coordinates:  89.5792 57.82864 11.818191\n"
     ]
    }
   ],
   "source": [
    "for i in range(len(jellyfish_ID)):\n",
    "    print('Group Number: ', jellyfish_data[i]['GroupNumber'],\n",
    "          'Sub Group Number: ', jellyfish_data[i]['SubGroupNumber'],\n",
    "          'Coordinates: ', jellyfish_data[i]['x'], jellyfish_data[i]['y'], jellyfish_data[i]['z'])"
   ]
  },
  {
   "cell_type": "code",
   "execution_count": null,
   "metadata": {},
   "outputs": [],
   "source": []
  }
 ],
 "metadata": {
  "kernelspec": {
   "display_name": "Python 3",
   "language": "python",
   "name": "python3"
  },
  "language_info": {
   "codemirror_mode": {
    "name": "ipython",
    "version": 3
   },
   "file_extension": ".py",
   "mimetype": "text/x-python",
   "name": "python",
   "nbconvert_exporter": "python",
   "pygments_lexer": "ipython3",
   "version": "3.7.1"
  }
 },
 "nbformat": 4,
 "nbformat_minor": 2
}
