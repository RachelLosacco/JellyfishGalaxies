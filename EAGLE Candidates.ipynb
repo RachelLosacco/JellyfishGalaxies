{
 "cells": [
  {
   "cell_type": "markdown",
   "metadata": {},
   "source": [
    "## Finding Jellyfish Galaxies in EAGLE"
   ]
  },
  {
   "cell_type": "code",
   "execution_count": 1,
   "metadata": {},
   "outputs": [],
   "source": [
    "import eagleSqlTools as sql\n",
    "import numpy as np\n",
    "import matplotlib.pyplot as plt\n",
    "import pandas as pd"
   ]
  },
  {
   "cell_type": "code",
   "execution_count": 2,
   "metadata": {},
   "outputs": [],
   "source": [
    "sim_name = 'RefL0100N1504'\n",
    "con = sql.connect(\"nkl161\", password=\"FCGxrt20\")"
   ]
  },
  {
   "cell_type": "markdown",
   "metadata": {},
   "source": [
    "### Criteria:\n",
    "* Subhalo mass > 1e10\n",
    "* SFR > 1e-10\n",
    "* 0.5 < r200 < 1.5"
   ]
  },
  {
   "cell_type": "code",
   "execution_count": 7,
   "metadata": {},
   "outputs": [],
   "source": [
    "# Defining distance from central subhalo to target subhalo\n",
    "# Subhalo coordinates\n",
    "subx = 'sub.CentreOfPotential_x'\n",
    "suby = 'sub.CentreOfPotential_y'\n",
    "subz = 'sub.CentreOfPotential_z'\n",
    "\n",
    "# Group coordinates\n",
    "groupx = 'fof.GroupCentreOfPotential_x'\n",
    "groupy = 'fof.GroupCentreOfPotential_y'\n",
    "groupz = 'fof.GroupCentreOfPotential_z'"
   ]
  },
  {
   "cell_type": "code",
   "execution_count": 8,
   "metadata": {
    "scrolled": false
   },
   "outputs": [
    {
     "name": "stdout",
     "output_type": "stream",
     "text": [
      "20\n"
     ]
    }
   ],
   "source": [
    "# Define SQL query\n",
    "jellyfish_query = f\"\"\"\n",
    "    SELECT\n",
    "        sub.GalaxyID as galID\n",
    "    FROM\n",
    "        {sim_name}_SubHalo as sub,\n",
    "        {sim_name}_FOF as fof,\n",
    "        {sim_name}_Aperture as ap\n",
    "    WHERE\n",
    "        sub.GroupID = fof.GroupID and\n",
    "        ap.GalaxyID = sub.GalaxyID and\n",
    "        ap.ApertureSize = 30 and\n",
    "        sub.MassType_STAR > 1e10 and\n",
    "        sub.StarFormationRate > 1e-10 and\n",
    "        sqrt(square({subx}-{groupx}) + square({suby}-{groupy}) + square({subz}-{groupz})) > fof.Group_R_Crit200*0.5 and\n",
    "        sqrt(square({subx}-{groupx}) + square({suby}-{groupy}) + square({subz}-{groupz})) < fof.Group_R_Crit200*1.5\n",
    "\"\"\"\n",
    "\n",
    "# Execute query\n",
    "jellyData = sql.execute_query(con, jellyfish_query)\n",
    "print(len(jellyData))"
   ]
  },
  {
   "cell_type": "markdown",
   "metadata": {},
   "source": [
    "The output is a dictionary. You can add the query output to an empty dictionary as above, specifying that it is taking the ith row. You can then call the ith entry and the specific label (e.g. dictionary[i]['mass']), but not the index (e.g. dictionary[i][0])."
   ]
  },
  {
   "cell_type": "code",
   "execution_count": 9,
   "metadata": {},
   "outputs": [
    {
     "name": "stdout",
     "output_type": "stream",
     "text": [
      "[(15577130,) (11419708,) (17914629,) ( 9463317,) ( 9487826,) ( 9479194,)\n",
      " ( 9463316,) (18563301,) (15663265,) (16816349,) (15577129,) (15576079,)\n",
      " (20710021,) ( 4209799,) (16161075,) (20710022,) (18138356,) (17913460,)\n",
      " (15663264,) (15100438,)]\n"
     ]
    }
   ],
   "source": [
    "print(jellyData)"
   ]
  },
  {
   "cell_type": "code",
   "execution_count": null,
   "metadata": {},
   "outputs": [],
   "source": []
  }
 ],
 "metadata": {
  "kernelspec": {
   "display_name": "Python 3",
   "language": "python",
   "name": "python3"
  },
  "language_info": {
   "codemirror_mode": {
    "name": "ipython",
    "version": 3
   },
   "file_extension": ".py",
   "mimetype": "text/x-python",
   "name": "python",
   "nbconvert_exporter": "python",
   "pygments_lexer": "ipython3",
   "version": "3.7.1"
  }
 },
 "nbformat": 4,
 "nbformat_minor": 2
}
