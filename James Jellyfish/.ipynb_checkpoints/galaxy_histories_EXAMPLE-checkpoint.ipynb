{
 "cells": [
  {
   "cell_type": "code",
   "execution_count": 1,
   "metadata": {},
   "outputs": [
    {
     "name": "stdout",
     "output_type": "stream",
     "text": [
      "Populating the interactive namespace from numpy and matplotlib\n"
     ]
    }
   ],
   "source": [
    "%matplotlib inline\n",
    "import sys, os\n",
    "%pylab inline\n",
    "import matplotlib.pyplot as plt\n",
    "import numpy as np\n",
    "import sys\n",
    "import sql_tools as sql\n",
    "from scipy.stats import binned_statistic_2d as bs2d\n",
    "from scipy.stats import binned_statistic as bs1d"
   ]
  },
  {
   "cell_type": "code",
   "execution_count": 58,
   "metadata": {},
   "outputs": [],
   "source": [
    "gid = 12681787\n",
    "gid = 12143703\n",
    "gid = 10694572\n",
    "con         = sql.connect(user=\"jtrayford\")"
   ]
  },
  {
   "cell_type": "code",
   "execution_count": 29,
   "metadata": {},
   "outputs": [
    {
     "name": "stdout",
     "output_type": "stream",
     "text": [
      "fetch  27\n",
      "fetch  0\n",
      "[10694571 10694572 10694573 10694574 10694575 10694576 10694577 10694578\n",
      " 10694579 10694580 10694581 10694582 10694583 10694584 10694585 10694586\n",
      " 10694587 10694588 10694589 10694590 10694591 10694592 10694593 10694594\n",
      " 10694595 10694596 10694597]\n"
     ]
    }
   ],
   "source": [
    "query = \"\"\"\n",
    "select \n",
    "        tree.galaxyid, tree.starformationrate, tree.redshift, snap.lookbacktime\n",
    "from \n",
    "        eagle..refl0100n1504_subhalo as jelly,\n",
    "        eagle..refl0100n1504_subhalo as tree,\n",
    "        eagle..snapshots as snap\n",
    "        \n",
    "where\n",
    "        jelly.galaxyid = %d \n",
    "        \n",
    "        and\n",
    "\n",
    "        ((tree.snapnum >  jelly.snapnum and jelly.galaxyid between tree.galaxyid and tree.topleafid) or\n",
    "        (tree.snapnum <= jelly.snapnum and tree.galaxyid between jelly.galaxyid and jelly.topleafid))\n",
    "        \n",
    "        and\n",
    "        \n",
    "        tree.snapnum = snap.snapnum\n",
    "order by\n",
    "        tree.redshift\n",
    "\n",
    "\"\"\"\n",
    "\n",
    "data1 = sql.execute_query(con, query%gid)\n",
    "print data1['galaxyid']\n"
   ]
  },
  {
   "cell_type": "code",
   "execution_count": 31,
   "metadata": {},
   "outputs": [
    {
     "name": "stdout",
     "output_type": "stream",
     "text": [
      "[10694571 10694572 10694573 10694574 10694575 10694576 10694577 10694578\n",
      " 10694579 10694580 10694581 10694582 10694583 10694584 10694585 10694586\n",
      " 10694587 10694588 10694589 10694590 10694591 10694592 10694593 10694594\n",
      " 10694595 10694596 10694597] [2.22044605e-16 1.00638539e-01 1.82709873e-01 2.70901084e-01\n",
      " 3.65668565e-01 5.03107309e-01 6.15189791e-01 7.35629618e-01\n",
      " 8.65050554e-01 1.00412166e+00 1.25933146e+00 1.48670733e+00\n",
      " 1.73696578e+00 2.01241016e+00 2.23703694e+00 2.47841334e+00\n",
      " 3.01650453e+00 3.52797651e+00 3.98366356e+00 4.48521376e+00\n",
      " 5.03723669e+00 5.48741531e+00 5.97116232e+00 7.04956627e+00\n",
      " 8.07461643e+00 8.98787498e+00 9.99303341e+00]\n"
     ]
    },
    {
     "data": {
      "image/png": "[encoded data removed]",
      "text/plain": [
       "<Figure size 432x288 with 1 Axes>"
      ]
     },
     "metadata": {},
     "output_type": "display_data"
    }
   ],
   "source": [
    "plt.plot(data1['lookbacktime'], data1['starformationrate'], ls='-', marker='.')\n",
    "print data1['galaxyid'], data1['redshift']\n",
    "# plt.semilogy()"
   ]
  },
  {
   "cell_type": "code",
   "execution_count": 59,
   "metadata": {},
   "outputs": [
    {
     "name": "stdout",
     "output_type": "stream",
     "text": [
      "fetch  21839\n",
      "fetch  0\n",
      "21839\n"
     ]
    }
   ],
   "source": [
    "query = \"\"\"\n",
    "select \n",
    "        stars.Mass, stars.stellarformationtime\n",
    "from \n",
    "        eagle..refl0100n1504_subhalo as jelly,\n",
    "        eagle..refl0100n1504_stars as stars\n",
    "        \n",
    "where\n",
    "        jelly.galaxyid = %d - 1\n",
    "        \n",
    "        and\n",
    "        \n",
    "        jelly.galaxyid = stars.galaxyid\n",
    "\n",
    "\"\"\"\n",
    "\n",
    "stardata = sql.execute_query(con, query%gid)\n",
    "print stardata['Mass'].size"
   ]
  },
  {
   "cell_type": "code",
   "execution_count": 62,
   "metadata": {},
   "outputs": [
    {
     "data": {
      "image/png": "[encoded data removed]",
      "text/plain": [
       "<Figure size 432x288 with 1 Axes>"
      ]
     },
     "metadata": {},
     "output_type": "display_data"
    }
   ],
   "source": [
    "plt.hist(1./stardata['stellarformationtime'] - 1, bins=np.linspace(0,0.3, 20), histtype='step', weights=stardata['Mass']**1)\n",
    "plt.axvline(0.1, c='0.7')\n",
    "plt.axvline(0., c='0.7')\n",
    "plt.axvline(0.18, c='0.7')\n",
    "plt.axvline(0.27, c='0.75')\n",
    "plt.show()"
   ]
  },
  {
   "cell_type": "code",
   "execution_count": null,
   "metadata": {},
   "outputs": [],
   "source": []
  }
 ],
 "metadata": {
  "kernelspec": {
   "display_name": "Python 3",
   "language": "python",
   "name": "python3"
  },
  "language_info": {
   "codemirror_mode": {
    "name": "ipython",
    "version": 3
   },
   "file_extension": ".py",
   "mimetype": "text/x-python",
   "name": "python",
   "nbconvert_exporter": "python",
   "pygments_lexer": "ipython3",
   "version": "3.7.1"
  }
 },
 "nbformat": 4,
 "nbformat_minor": 2
}
